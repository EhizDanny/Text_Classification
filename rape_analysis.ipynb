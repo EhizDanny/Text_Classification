{
 "cells": [
  {
   "cell_type": "code",
   "execution_count": 2,
   "metadata": {},
   "outputs": [
    {
     "name": "stderr",
     "output_type": "stream",
     "text": [
      "c:\\Users\\BIOLA\\Desktop\\Data Science Projects\\Learnings\\Twitter Analysis\\twitter_env3.8\\lib\\site-packages\\tqdm\\auto.py:22: TqdmWarning: IProgress not found. Please update jupyter and ipywidgets. See https://ipywidgets.readthedocs.io/en/stable/user_install.html\n",
      "  from .autonotebook import tqdm as notebook_tqdm\n",
      "None of PyTorch, TensorFlow >= 2.0, or Flax have been found. Models won't be available and only tokenizers, configuration and file/data utilities can be used.\n"
     ]
    }
   ],
   "source": [
    "import pandas as pd\n",
    "import snscrape.modules.twitter as sn\n",
    "import neattext\n",
    "import plotly.express as px\n",
    "import plotly.graph_objects as go\n",
    "import numpy as np\n",
    "from transformers import pipeline\n",
    "from neattext.pipeline import TextPipeline\n",
    "import neattext.functions as nfx\n",
    "from sklearn.pipeline import Pipeline\n",
    "from datetime import datetime\n",
    "from sklearn.feature_extraction.text import TfidfVectorizer\n",
    "from sklearn.naive_bayes import MultinomialNB\n",
    "from sklearn.pipeline import make_pipeline\n",
    "from sklearn.model_selection import train_test_split\n",
    "from sklearn.feature_extraction.text import CountVectorizer\n",
    "from sklearn.ensemble import RandomForestClassifier"
   ]
  },
  {
   "cell_type": "markdown",
   "metadata": {},
   "source": [
    "### Data Mining"
   ]
  },
  {
   "cell_type": "code",
   "execution_count": 103,
   "metadata": {},
   "outputs": [],
   "source": [
    "# query =  'rapist (#rape OR #assualt OR #abuse OR #rapist OR #sexual_assualt OR #sexual_abuse) lang:en) until:2022-04-30'\n",
    "query = '((#SayNoToRape)) lang:en'\n",
    "\n",
    "tweet_words = []\n",
    "limit = 4000\n",
    "for tweet in sn.TwitterSearchScraper(query).get_items():\n",
    "    if len(tweet_words) == limit:\n",
    "        break\n",
    "    else:\n",
    "        tweet_words.append([tweet.date, tweet.user.displayname, \n",
    "            tweet.content, tweet.lang, tweet.source])\n",
    "\n",
    "Say_no_to_rape = pd.DataFrame(tweet_words, columns=['Date', 'DisplayName', 'Tweets', 'Language', 'location'])\n",
    "\n"
   ]
  },
  {
   "cell_type": "code",
   "execution_count": 3,
   "metadata": {},
   "outputs": [],
   "source": [
    "# query =  'rapist (#rape OR #assualt OR #abuse OR #rapist OR #sexual_assualt OR #sexual_abuse) lang:en) until:2022-04-30'\n",
    "query = 'rape culture lang:en'\n",
    "\n",
    "tweet_words = []\n",
    "limit = 4000\n",
    "for tweet in sn.TwitterSearchScraper(query).get_items():\n",
    "    if len(tweet_words) == limit:\n",
    "        break\n",
    "    else:\n",
    "        tweet_words.append([tweet.date, tweet.user.displayname, \n",
    "            tweet.content, tweet.lang, tweet.source])\n",
    "\n",
    "rape_culture2 = pd.DataFrame(tweet_words, columns=['Date', 'DisplayName', 'Tweets', 'Language', 'location'])\n",
    "\n"
   ]
  },
  {
   "cell_type": "code",
   "execution_count": 4,
   "metadata": {},
   "outputs": [],
   "source": [
    "# query =  'rapist (#rape OR #assualt OR #abuse OR #rapist OR #sexual_assualt OR #sexual_abuse) lang:en) until:2022-04-30'\n",
    "query = '(rape_culture) (#rape_culture) lang:en'\n",
    "\n",
    "tweet_words = []\n",
    "limit = 4000\n",
    "for tweet in sn.TwitterSearchScraper(query).get_items():\n",
    "    if len(tweet_words) == limit:\n",
    "        break\n",
    "    else:\n",
    "        tweet_words.append([tweet.date, tweet.user.displayname, \n",
    "            tweet.content, tweet.lang, tweet.source])\n",
    "\n",
    "df = pd.DataFrame(tweet_words, columns=['Date', 'DisplayName', 'Tweets', 'Language', 'location'])\n",
    "\n"
   ]
  },
  {
   "cell_type": "code",
   "execution_count": 5,
   "metadata": {},
   "outputs": [],
   "source": [
    "# query =  'rapist (#rape OR #assualt OR #abuse OR #rapist OR #sexual_assualt OR #sexual_abuse) lang:en) until:2022-04-30'\n",
    "query = 'call to action rape lang:en'\n",
    "\n",
    "tweet_words = []\n",
    "limit = 4000\n",
    "for tweet in sn.TwitterSearchScraper(query).get_items():\n",
    "    if len(tweet_words) == limit:\n",
    "        break\n",
    "    else:\n",
    "        tweet_words.append([tweet.date, tweet.user.displayname, \n",
    "            tweet.content, tweet.lang, tweet.source])\n",
    "\n",
    "call_to_action = pd.DataFrame(tweet_words, columns=['Date', 'DisplayName', 'Tweets', 'Language', 'location'])\n",
    "\n"
   ]
  },
  {
   "cell_type": "code",
   "execution_count": 6,
   "metadata": {},
   "outputs": [],
   "source": [
    "# query =  'rapist (#rape OR #assualt OR #abuse OR #rapist OR #sexual_assualt OR #sexual_abuse) lang:en) until:2022-04-30'\n",
    "query = 'Self Defense Suggestion rape lang:en'\n",
    "\n",
    "tweet_words = []\n",
    "limit = 4000\n",
    "for tweet in sn.TwitterSearchScraper(query).get_items():\n",
    "    if len(tweet_words) == limit:\n",
    "        break\n",
    "    else:\n",
    "        tweet_words.append([tweet.date, tweet.user.displayname, \n",
    "            tweet.content, tweet.lang, tweet.source])\n",
    "\n",
    "self_defence = pd.DataFrame(tweet_words, columns=['Date', 'DisplayName', 'Tweets', 'Language', 'location'])\n",
    "\n"
   ]
  },
  {
   "cell_type": "code",
   "execution_count": 7,
   "metadata": {},
   "outputs": [],
   "source": [
    "# query =  'rapist (#rape OR #assualt OR #abuse OR #rapist OR #sexual_assualt OR #sexual_abuse) lang:en) until:2022-04-30'\n",
    "query = 'Victim Blaming rape lang:en lang:en'\n",
    "\n",
    "tweet_words = []\n",
    "limit = 4000\n",
    "for tweet in sn.TwitterSearchScraper(query).get_items():\n",
    "    if len(tweet_words) == limit:\n",
    "        break\n",
    "    else:\n",
    "        tweet_words.append([tweet.date, tweet.user.displayname, \n",
    "            tweet.content, tweet.lang, tweet.source])\n",
    "\n",
    "victim_blaming = pd.DataFrame(tweet_words, columns=['Date', 'DisplayName', 'Tweets', 'Language', 'location'])\n",
    "\n"
   ]
  },
  {
   "cell_type": "code",
   "execution_count": 8,
   "metadata": {},
   "outputs": [],
   "source": [
    "# query =  'rapist (#rape OR #assualt OR #abuse OR #rapist OR #sexual_assualt OR #sexual_abuse) lang:en) until:2022-04-30'\n",
    "query = 'Rape Penalty lang:en lang:en'\n",
    "\n",
    "tweet_words = []\n",
    "limit = 4000\n",
    "for tweet in sn.TwitterSearchScraper(query).get_items():\n",
    "    if len(tweet_words) == limit:\n",
    "        break\n",
    "    else:\n",
    "        tweet_words.append([tweet.date, tweet.user.displayname, \n",
    "            tweet.content, tweet.lang, tweet.source])\n",
    "\n",
    "rape_penalty = pd.DataFrame(tweet_words, columns=['Date', 'DisplayName', 'Tweets', 'Language', 'location'])\n",
    "\n"
   ]
  },
  {
   "cell_type": "code",
   "execution_count": 21,
   "metadata": {},
   "outputs": [],
   "source": [
    "rape_culture2_ = rape_culture2.copy()\n",
    "rape_penalty_ = rape_penalty.copy()\n",
    "victim_blaming_ = victim_blaming.copy()\n",
    "self_defence_ = self_defence.copy()\n",
    "call_to_action_ = call_to_action.copy()\n",
    "Say_no_to_rape_ = Say_no_to_rape.copy()"
   ]
  },
  {
   "cell_type": "markdown",
   "metadata": {},
   "source": [
    "---------------------------------------------------------\n",
    "### Data Cleaning"
   ]
  },
  {
   "cell_type": "code",
   "execution_count": 22,
   "metadata": {},
   "outputs": [
    {
     "data": {
      "text/plain": [
       "(3929, 2)"
      ]
     },
     "execution_count": 22,
     "metadata": {},
     "output_type": "execute_result"
    }
   ],
   "source": [
    "import re\n",
    "def cleaner(txt):\n",
    "    txt = re.sub('#rape', 'rape', txt)\n",
    "    txt = re.sub('#Rape', 'Rape', txt)\n",
    "    txt = re.sub('#[A-Za-z0-9]+', '', txt)\n",
    "    txt = re.sub('\\\\n', '', txt)\n",
    "    txt = re.sub('https?:\\/\\/\\S+', '', txt)\n",
    "    txt = re.sub('!Rape', 'Rape', txt)\n",
    "    return txt\n",
    "    \n",
    "rape_culture2_['clean_tweet'] = rape_culture2_['Tweets'].apply(cleaner)\n",
    "rape_culture2_['clean_tweet'] = rape_culture2_['clean_tweet'].apply(nfx.remove_userhandles, nfx.remove_puncts)\n",
    "rape_culture2_['clean_tweet'] = rape_culture2_['clean_tweet'].apply(nfx.remove_dates, nfx.remove_special_characters)\n",
    "rape_culture2_.drop(['Language', 'location', 'Tweets'], axis = 1, inplace = True)\n",
    "rape_culture2_.reset_index(drop = True)\n",
    "rape_culture2_['Date'] = datetime.today().strftime('%Y-%m-%d') # Convert date column to Datetime and set it to index\n",
    "rape_culture2_.Date = rape_culture2_.Date.str[:9] # Select the first 9 letters of the strings\n",
    "rape_culture2_.set_index('Date', inplace= True)\n",
    "rape_culture2_['DisplayName'] = rape_culture2_['DisplayName'].apply(nfx.remove_emojis)\n",
    "rape_culture2_.drop_duplicates(subset = 'clean_tweet', keep = 'first', inplace = True)\n",
    "\n",
    "rape_culture2_.shape"
   ]
  },
  {
   "cell_type": "code",
   "execution_count": 23,
   "metadata": {},
   "outputs": [
    {
     "data": {
      "text/html": [
       "<div>\n",
       "<style scoped>\n",
       "    .dataframe tbody tr th:only-of-type {\n",
       "        vertical-align: middle;\n",
       "    }\n",
       "\n",
       "    .dataframe tbody tr th {\n",
       "        vertical-align: top;\n",
       "    }\n",
       "\n",
       "    .dataframe thead th {\n",
       "        text-align: right;\n",
       "    }\n",
       "</style>\n",
       "<table border=\"1\" class=\"dataframe\">\n",
       "  <thead>\n",
       "    <tr style=\"text-align: right;\">\n",
       "      <th></th>\n",
       "      <th>DisplayName</th>\n",
       "      <th>clean_tweet</th>\n",
       "    </tr>\n",
       "    <tr>\n",
       "      <th>Date</th>\n",
       "      <th></th>\n",
       "      <th></th>\n",
       "    </tr>\n",
       "  </thead>\n",
       "  <tbody>\n",
       "    <tr>\n",
       "      <th>2022-07-2</th>\n",
       "      <td>jude 🦴hell detective (DOLL)</td>\n",
       "      <td>cw: sa the thing about sexual violence in fant...</td>\n",
       "    </tr>\n",
       "    <tr>\n",
       "      <th>2022-07-2</th>\n",
       "      <td>Rachel (is Awake) Horton</td>\n",
       "      <td>Let’s try to stop the euphemisms for truly hor...</td>\n",
       "    </tr>\n",
       "    <tr>\n",
       "      <th>2022-07-2</th>\n",
       "      <td>Gina Lee  she/her DMs</td>\n",
       "      <td>Pedophilia &amp;amp; rape/incest are HEAVY sins....</td>\n",
       "    </tr>\n",
       "    <tr>\n",
       "      <th>2022-07-2</th>\n",
       "      <td>OnyekaChi</td>\n",
       "      <td>Yes, and the girl will also ...</td>\n",
       "    </tr>\n",
       "    <tr>\n",
       "      <th>2022-07-2</th>\n",
       "      <td>angela55</td>\n",
       "      <td>It's also annoying when you can't file...</td>\n",
       "    </tr>\n",
       "    <tr>\n",
       "      <th>...</th>\n",
       "      <td>...</td>\n",
       "      <td>...</td>\n",
       "    </tr>\n",
       "    <tr>\n",
       "      <th>2022-07-2</th>\n",
       "      <td>I LOVE MILFS</td>\n",
       "      <td>Men who rape women are charged with “att...</td>\n",
       "    </tr>\n",
       "    <tr>\n",
       "      <th>2022-07-2</th>\n",
       "      <td>wardy</td>\n",
       "      <td>18 years ffs, rape of a child should be the ...</td>\n",
       "    </tr>\n",
       "    <tr>\n",
       "      <th>2022-07-2</th>\n",
       "      <td>Cold Dead Fingers</td>\n",
       "      <td>I support the Death Penalty for child rape.</td>\n",
       "    </tr>\n",
       "    <tr>\n",
       "      <th>2022-07-2</th>\n",
       "      <td>Danny Skyfeather</td>\n",
       "      <td>Yeah let’s start with the death penalt...</td>\n",
       "    </tr>\n",
       "    <tr>\n",
       "      <th>2022-07-2</th>\n",
       "      <td>Louie Pickles ™</td>\n",
       "      <td>Look at some of the proposals to make pena...</td>\n",
       "    </tr>\n",
       "  </tbody>\n",
       "</table>\n",
       "<p>3833 rows × 2 columns</p>\n",
       "</div>"
      ],
      "text/plain": [
       "                           DisplayName  \\\n",
       "Date                                     \n",
       "2022-07-2  jude 🦴hell detective (DOLL)   \n",
       "2022-07-2     Rachel (is Awake) Horton   \n",
       "2022-07-2        Gina Lee  she/her DMs   \n",
       "2022-07-2                    OnyekaChi   \n",
       "2022-07-2                     angela55   \n",
       "...                                ...   \n",
       "2022-07-2                I LOVE MILFS    \n",
       "2022-07-2                        wardy   \n",
       "2022-07-2            Cold Dead Fingers   \n",
       "2022-07-2             Danny Skyfeather   \n",
       "2022-07-2              Louie Pickles ™   \n",
       "\n",
       "                                                 clean_tweet  \n",
       "Date                                                          \n",
       "2022-07-2  cw: sa the thing about sexual violence in fant...  \n",
       "2022-07-2  Let’s try to stop the euphemisms for truly hor...  \n",
       "2022-07-2    Pedophilia &amp; rape/incest are HEAVY sins....  \n",
       "2022-07-2                    Yes, and the girl will also ...  \n",
       "2022-07-2          It's also annoying when you can't file...  \n",
       "...                                                      ...  \n",
       "2022-07-2        Men who rape women are charged with “att...  \n",
       "2022-07-2    18 years ffs, rape of a child should be the ...  \n",
       "2022-07-2        I support the Death Penalty for child rape.  \n",
       "2022-07-2          Yeah let’s start with the death penalt...  \n",
       "2022-07-2      Look at some of the proposals to make pena...  \n",
       "\n",
       "[3833 rows x 2 columns]"
      ]
     },
     "execution_count": 23,
     "metadata": {},
     "output_type": "execute_result"
    }
   ],
   "source": [
    "import re\n",
    "def cleaner(txt):\n",
    "    txt = re.sub('#rape', 'rape', txt)\n",
    "    txt = re.sub('#Rape', 'Rape', txt)\n",
    "    txt = re.sub('#[A-Za-z0-9]+', '', txt)\n",
    "    txt = re.sub('\\\\n', '', txt)\n",
    "    txt = re.sub('https?:\\/\\/\\S+', '', txt)\n",
    "    txt = re.sub('!Rape', 'Rape', txt)\n",
    "    return txt\n",
    "    \n",
    "rape_penalty_['clean_tweet'] = rape_penalty_['Tweets'].apply(cleaner)\n",
    "rape_penalty_['clean_tweet'] = rape_penalty_['clean_tweet'].apply(nfx.remove_userhandles, nfx.remove_puncts)\n",
    "rape_penalty_['clean_tweet'] = rape_penalty_['clean_tweet'].apply(nfx.remove_dates, nfx.remove_special_characters)\n",
    "rape_penalty_['clean_tweet'] = rape_penalty_['clean_tweet'].apply(nfx.remove_emojis)\n",
    "rape_penalty_.drop(['Language', 'location', 'Tweets'], axis = 1, inplace = True)\n",
    "rape_penalty_.reset_index(drop = True)\n",
    "rape_penalty_['Date'] = datetime.today().strftime('%Y-%m-%d') # Convert date column to Datetime and set it to index\n",
    "rape_penalty_.Date = rape_penalty_.Date.str[:9] # Select the first 9 letters of the strings\n",
    "rape_penalty_.set_index('Date', inplace= True)\n",
    "rape_penalty_['DisplayName'] = rape_penalty_['DisplayName'].apply(nfx.remove_emojis)\n",
    "rape_penalty_.drop_duplicates(subset = 'clean_tweet', keep = 'first', inplace = True)\n",
    "\n",
    "rape_penalty_"
   ]
  },
  {
   "cell_type": "code",
   "execution_count": 24,
   "metadata": {},
   "outputs": [
    {
     "data": {
      "text/html": [
       "<div>\n",
       "<style scoped>\n",
       "    .dataframe tbody tr th:only-of-type {\n",
       "        vertical-align: middle;\n",
       "    }\n",
       "\n",
       "    .dataframe tbody tr th {\n",
       "        vertical-align: top;\n",
       "    }\n",
       "\n",
       "    .dataframe thead th {\n",
       "        text-align: right;\n",
       "    }\n",
       "</style>\n",
       "<table border=\"1\" class=\"dataframe\">\n",
       "  <thead>\n",
       "    <tr style=\"text-align: right;\">\n",
       "      <th></th>\n",
       "      <th>DisplayName</th>\n",
       "      <th>clean_tweet</th>\n",
       "    </tr>\n",
       "    <tr>\n",
       "      <th>Date</th>\n",
       "      <th></th>\n",
       "      <th></th>\n",
       "    </tr>\n",
       "  </thead>\n",
       "  <tbody>\n",
       "    <tr>\n",
       "      <th>2022-07-2</th>\n",
       "      <td>Krunken Duncan</td>\n",
       "      <td>Saved a potential rape victim and stop a...</td>\n",
       "    </tr>\n",
       "    <tr>\n",
       "      <th>2022-07-2</th>\n",
       "      <td>Jay Robertson</td>\n",
       "      <td>The GOP's \"blame the Capitol Police\" tactics...</td>\n",
       "    </tr>\n",
       "    <tr>\n",
       "      <th>2022-07-2</th>\n",
       "      <td>Thando Ndlovu</td>\n",
       "      <td>That doesn't work in Zim!! This is crazy vic...</td>\n",
       "    </tr>\n",
       "    <tr>\n",
       "      <th>2022-07-2</th>\n",
       "      <td>lawrence</td>\n",
       "      <td>That's like blaming the rape victim for no...</td>\n",
       "    </tr>\n",
       "    <tr>\n",
       "      <th>2022-07-2</th>\n",
       "      <td>DreamZim</td>\n",
       "      <td>Its sad when it's coming from a person w...</td>\n",
       "    </tr>\n",
       "    <tr>\n",
       "      <th>...</th>\n",
       "      <td>...</td>\n",
       "      <td>...</td>\n",
       "    </tr>\n",
       "    <tr>\n",
       "      <th>2022-07-2</th>\n",
       "      <td>Bex J</td>\n",
       "      <td>Quite, question should be how tf did no-one ...</td>\n",
       "    </tr>\n",
       "    <tr>\n",
       "      <th>2022-07-2</th>\n",
       "      <td>King James</td>\n",
       "      <td>They should be apologizing to you for ...</td>\n",
       "    </tr>\n",
       "    <tr>\n",
       "      <th>2022-07-2</th>\n",
       "      <td>infinitelinesof7</td>\n",
       "      <td>Rape culture/ victim blaming</td>\n",
       "    </tr>\n",
       "    <tr>\n",
       "      <th>2022-07-2</th>\n",
       "      <td>HasNip</td>\n",
       "      <td>PepeLa D is too busy victim blaming a rape...</td>\n",
       "    </tr>\n",
       "    <tr>\n",
       "      <th>2022-07-2</th>\n",
       "      <td>stoplying</td>\n",
       "      <td>another sad part is that everyone is forge...</td>\n",
       "    </tr>\n",
       "  </tbody>\n",
       "</table>\n",
       "<p>3932 rows × 2 columns</p>\n",
       "</div>"
      ],
      "text/plain": [
       "                DisplayName                                        clean_tweet\n",
       "Date                                                                          \n",
       "2022-07-2    Krunken Duncan        Saved a potential rape victim and stop a...\n",
       "2022-07-2    Jay Robertson     The GOP's \"blame the Capitol Police\" tactics...\n",
       "2022-07-2     Thando Ndlovu    That doesn't work in Zim!! This is crazy vic...\n",
       "2022-07-2          lawrence      That's like blaming the rape victim for no...\n",
       "2022-07-2          DreamZim        Its sad when it's coming from a person w...\n",
       "...                     ...                                                ...\n",
       "2022-07-2             Bex J    Quite, question should be how tf did no-one ...\n",
       "2022-07-2        King James          They should be apologizing to you for ...\n",
       "2022-07-2  infinitelinesof7                      Rape culture/ victim blaming \n",
       "2022-07-2            HasNip      PepeLa D is too busy victim blaming a rape...\n",
       "2022-07-2         stoplying      another sad part is that everyone is forge...\n",
       "\n",
       "[3932 rows x 2 columns]"
      ]
     },
     "execution_count": 24,
     "metadata": {},
     "output_type": "execute_result"
    }
   ],
   "source": [
    "import re\n",
    "def cleaner(txt):\n",
    "    txt = re.sub('#rape', 'rape', txt)\n",
    "    txt = re.sub('#Rape', 'Rape', txt)\n",
    "    txt = re.sub('#[A-Za-z0-9]+', '', txt)\n",
    "    txt = re.sub('\\\\n', '', txt)\n",
    "    txt = re.sub('https?:\\/\\/\\S+', '', txt)\n",
    "    txt = re.sub('!Rape', 'Rape', txt)\n",
    "    return txt\n",
    "    \n",
    "victim_blaming_['clean_tweet'] = victim_blaming_['Tweets'].apply(cleaner)\n",
    "victim_blaming_['clean_tweet'] = victim_blaming_['clean_tweet'].apply(nfx.remove_userhandles, nfx.remove_puncts)\n",
    "victim_blaming_['clean_tweet'] = victim_blaming_['clean_tweet'].apply(nfx.remove_dates, nfx.remove_special_characters)\n",
    "victim_blaming_['clean_tweet'] = victim_blaming_['clean_tweet'].apply(nfx.remove_emojis)\n",
    "victim_blaming_.drop(['Language', 'location', 'Tweets'], axis = 1, inplace = True)\n",
    "victim_blaming_.reset_index(drop = True)\n",
    "victim_blaming_['Date'] = datetime.today().strftime('%Y-%m-%d') # Convert date column to Datetime and set it to index\n",
    "victim_blaming_.Date = victim_blaming_.Date.str[:9] # Select the first 9 letters of the strings\n",
    "victim_blaming_.set_index('Date', inplace= True)\n",
    "victim_blaming_['DisplayName'] = victim_blaming_['DisplayName'].apply(nfx.remove_emojis)\n",
    "victim_blaming_.drop_duplicates(subset = 'clean_tweet', keep = 'first', inplace = True)\n",
    "\n",
    "victim_blaming_"
   ]
  },
  {
   "cell_type": "code",
   "execution_count": 25,
   "metadata": {},
   "outputs": [
    {
     "data": {
      "text/plain": [
       "(62, 2)"
      ]
     },
     "execution_count": 25,
     "metadata": {},
     "output_type": "execute_result"
    }
   ],
   "source": [
    "import re\n",
    "def cleaner(txt):\n",
    "    txt = re.sub('#rape', 'rape', txt)\n",
    "    txt = re.sub('#Rape', 'Rape', txt)\n",
    "    txt = re.sub('#[A-Za-z0-9]+', '', txt)\n",
    "    txt = re.sub('\\\\n', '', txt)\n",
    "    txt = re.sub('https?:\\/\\/\\S+', '', txt)\n",
    "    txt = re.sub('!Rape', 'Rape', txt)\n",
    "    return txt\n",
    "    \n",
    "self_defence_['clean_tweet'] = self_defence_['Tweets'].apply(cleaner)\n",
    "self_defence_['clean_tweet'] = self_defence_['clean_tweet'].apply(nfx.remove_userhandles, nfx.remove_puncts)\n",
    "self_defence_['clean_tweet'] = self_defence_['clean_tweet'].apply(nfx.remove_dates, nfx.remove_special_characters)\n",
    "self_defence_.drop(['Language', 'location', 'Tweets'], axis = 1, inplace = True)\n",
    "self_defence_.reset_index(drop = True)\n",
    "self_defence_['Date'] = datetime.today().strftime('%Y-%m-%d') # Convert date column to Datetime and set it to index\n",
    "self_defence_.Date = self_defence_.Date.str[:9] # Select the first 9 letters of the strings\n",
    "self_defence_.set_index('Date', inplace= True)\n",
    "self_defence_['DisplayName'] = self_defence_['DisplayName'].apply(nfx.remove_emojis)\n",
    "self_defence_.drop_duplicates(subset = 'clean_tweet', keep = 'first', inplace = True)\n",
    "\n",
    "self_defence_.shape"
   ]
  },
  {
   "cell_type": "code",
   "execution_count": 26,
   "metadata": {},
   "outputs": [
    {
     "data": {
      "text/plain": [
       "(1089, 2)"
      ]
     },
     "execution_count": 26,
     "metadata": {},
     "output_type": "execute_result"
    }
   ],
   "source": [
    "import re\n",
    "def cleaner(txt):\n",
    "    txt = re.sub('#rape', 'rape', txt)\n",
    "    txt = re.sub('#Rape', 'Rape', txt)\n",
    "    txt = re.sub('#[A-Za-z0-9]+', '', txt)\n",
    "    txt = re.sub('\\\\n', '', txt)\n",
    "    txt = re.sub('https?:\\/\\/\\S+', '', txt)\n",
    "    txt = re.sub('!Rape', 'Rape', txt)\n",
    "    return txt\n",
    "    \n",
    "call_to_action_['clean_tweet'] = call_to_action_['Tweets'].apply(cleaner)\n",
    "call_to_action_['clean_tweet'] = call_to_action_['clean_tweet'].apply(nfx.remove_userhandles, nfx.remove_puncts)\n",
    "call_to_action_['clean_tweet'] = call_to_action_['clean_tweet'].apply(nfx.remove_dates, nfx.remove_special_characters)\n",
    "call_to_action_.drop(['Language', 'location', 'Tweets'], axis = 1, inplace = True)\n",
    "call_to_action_.reset_index(drop = True)\n",
    "call_to_action_['Date'] = datetime.today().strftime('%Y-%m-%d') # Convert date column to Datetime and set it to index\n",
    "call_to_action_.Date = call_to_action_.Date.str[:9] # Select the first 9 letters of the strings\n",
    "call_to_action_.set_index('Date', inplace= True)\n",
    "call_to_action_['DisplayName'] = call_to_action_['DisplayName'].apply(nfx.remove_emojis)\n",
    "call_to_action_.drop_duplicates(subset = 'clean_tweet', keep = 'first', inplace = True)\n",
    "\n",
    "call_to_action_.shape"
   ]
  },
  {
   "cell_type": "code",
   "execution_count": 105,
   "metadata": {},
   "outputs": [
    {
     "data": {
      "text/plain": [
       "(3811, 2)"
      ]
     },
     "execution_count": 105,
     "metadata": {},
     "output_type": "execute_result"
    }
   ],
   "source": [
    "\n",
    "import re\n",
    "def cleaner(txt):\n",
    "    txt = re.sub('#rape', 'rape', txt)\n",
    "    txt = re.sub('#Rape', 'Rape', txt)\n",
    "    txt = re.sub('#[A-Za-z0-9]+', '', txt)\n",
    "    txt = re.sub('\\\\n', '', txt)\n",
    "    txt = re.sub('https?:\\/\\/\\S+', '', txt)\n",
    "    txt = re.sub('!Rape', 'Rape', txt)\n",
    "    return txt\n",
    "    \n",
    "Say_no_to_rape_['clean_tweet'] = Say_no_to_rape_['Tweets'].apply(cleaner)\n",
    "Say_no_to_rape_['clean_tweet'] = Say_no_to_rape_['clean_tweet'].apply(nfx.remove_userhandles, nfx.remove_puncts)\n",
    "Say_no_to_rape_['clean_tweet'] = Say_no_to_rape_['clean_tweet'].apply(nfx.remove_dates, nfx.remove_special_characters)\n",
    "Say_no_to_rape_.drop(['Language', 'location', 'Tweets'], axis = 1, inplace = True)\n",
    "Say_no_to_rape_.reset_index(drop = True)\n",
    "Say_no_to_rape_['Date'] = datetime.today().strftime('%Y-%m-%d') # Convert date column to Datetime and set it to index\n",
    "Say_no_to_rape_.Date = Say_no_to_rape_.Date.str[:9] # Select the first 9 letters of the strings\n",
    "Say_no_to_rape_.set_index('Date', inplace= True)\n",
    "Say_no_to_rape_['DisplayName'] = Say_no_to_rape_['DisplayName'].apply(nfx.remove_emojis)\n",
    "Say_no_to_rape_.drop_duplicates(subset = 'clean_tweet', keep = 'first', inplace = True)\n",
    "\n",
    "Say_no_to_rape_.shape"
   ]
  },
  {
   "cell_type": "markdown",
   "metadata": {},
   "source": [
    "-------------------------------------------------------------------------\n",
    "### Building Sentiment"
   ]
  },
  {
   "cell_type": "code",
   "execution_count": 27,
   "metadata": {},
   "outputs": [],
   "source": [
    "from textblob import TextBlob\n",
    "# def Get_Sentiment(text):\n",
    "#     blob = TextBlob(text)\n",
    "#     polarity = blob.sentiment.polarity\n",
    "#     subjectivity = blob.sentiment.subjectivity\n",
    "#     if polarity >0:\n",
    "#         label = 'Positive'\n",
    "#     elif polarity <0:\n",
    "#         label = 'Negative'\n",
    "#     else:\n",
    "#         label = 'Neutral'\n",
    "#     result = {'Polarity': polarity, 'Subjectivity': subjectivity, 'Sentiment': label}\n",
    "#     return result\n",
    "\n",
    "\n",
    "    # Create Sentiment Function\n",
    "def get_subjectivity(text):\n",
    "    return TextBlob(text).sentiment.subjectivity\n",
    "def get_polarity(text):\n",
    "    return TextBlob(text).sentiment.polarity\n",
    "\n",
    "\n",
    "# Create a function to store the sentiment output\n",
    "def sentiment_score(score):\n",
    "    if score <0:\n",
    "        return 'Negetive'\n",
    "    elif score == 0:\n",
    "        return 'Neutral'\n",
    "    else:\n",
    "        return 'Positive'\n"
   ]
  },
  {
   "cell_type": "code",
   "execution_count": 28,
   "metadata": {},
   "outputs": [],
   "source": [
    "# Create columns for each subject and each dataframes\n",
    "rape_culture2_['Subjectivity'] = rape_culture2_['clean_tweet'].apply(get_subjectivity)\n",
    "rape_culture2_['Polarity'] = rape_culture2_['clean_tweet'].apply(get_polarity)\n",
    "\n",
    "rape_penalty_['Subjectivity'] = rape_penalty_['clean_tweet'].apply(get_subjectivity)\n",
    "rape_penalty_['Polarity'] = rape_penalty_['clean_tweet'].apply(get_polarity)\n",
    "\n",
    "victim_blaming_['Subjectivity'] = victim_blaming_['clean_tweet'].apply(get_subjectivity)\n",
    "victim_blaming_['Polarity'] = victim_blaming_['clean_tweet'].apply(get_polarity)\n",
    "\n",
    "self_defence_['Subjectivity'] = self_defence_['clean_tweet'].apply(get_subjectivity)\n",
    "self_defence_['Polarity'] = self_defence_['clean_tweet'].apply(get_polarity)\n",
    "\n",
    "call_to_action_['Subjectivity'] = call_to_action_['clean_tweet'].apply(get_subjectivity)\n",
    "call_to_action_['Polarity'] = call_to_action_['clean_tweet'].apply(get_polarity)\n",
    "\n",
    "\n",
    "Say_no_to_rape_['Subjectivity'] = Say_no_to_rape_['clean_tweet'].apply(get_subjectivity)\n",
    "Say_no_to_rape_['Polarity'] = Say_no_to_rape_['clean_tweet'].apply(get_polarity)"
   ]
  },
  {
   "cell_type": "code",
   "execution_count": 54,
   "metadata": {},
   "outputs": [],
   "source": [
    "# Getting the sentiment degree cannot work on a duplicated index. We reset index \n",
    "rape_culture2_.reset_index(inplace= True)\n",
    "rape_penalty_.reset_index(inplace= True)\n",
    "victim_blaming_.reset_index(inplace= True)\n",
    "self_defence_.reset_index(inplace= True)\n",
    "call_to_action_.reset_index(inplace= True)\n",
    "Say_no_to_rape_.reset_index(inplace= True)"
   ]
  },
  {
   "cell_type": "code",
   "execution_count": 55,
   "metadata": {},
   "outputs": [],
   "source": [
    "# Create a column to store the sentiment degree in all data frames\n",
    "rape_culture2_['Sentiments'] = rape_culture2_['Polarity'].apply(sentiment_score)\n",
    "rape_penalty_['Sentiments'] = rape_culture2_['Polarity'].apply(sentiment_score)\n",
    "victim_blaming_['Sentiments'] = rape_culture2_['Polarity'].apply(sentiment_score)\n",
    "self_defence_['Sentiments'] = rape_culture2_['Polarity'].apply(sentiment_score)\n",
    "call_to_action_['Sentiments'] = rape_culture2_['Polarity'].apply(sentiment_score)\n",
    "Say_no_to_rape_['Sentiments'] = rape_culture2_['Polarity'].apply(sentiment_score)"
   ]
  },
  {
   "cell_type": "code",
   "execution_count": 61,
   "metadata": {},
   "outputs": [],
   "source": [
    "# Save datasets to CSV\n",
    "rape_culture2_.to_csv('Rape Culture.csv')\n",
    "rape_penalty_.to_csv('Rape Penalty.csv')\n",
    "victim_blaming_.to_csv('Victim Blaming.csv')\n",
    "self_defence_.to_csv('Self Defence.csv')\n",
    "call_to_action_.to_csv('Call to Action.csv')\n",
    "Say_no_to_rape_.to_csv('Say No To Rape.csv')"
   ]
  },
  {
   "cell_type": "markdown",
   "metadata": {},
   "source": [
    "-------------------------------------------------------\n",
    "### Text Classification Modelling"
   ]
  },
  {
   "cell_type": "code",
   "execution_count": 393,
   "metadata": {},
   "outputs": [
    {
     "data": {
      "text/plain": [
       "(12845, 7)"
      ]
     },
     "execution_count": 393,
     "metadata": {},
     "output_type": "execute_result"
    }
   ],
   "source": [
    "# prepare the dataset to be used for text analysis modelling\n",
    "rape_culture2_['Target'] = 'Rape Culture'\n",
    "rape_penalty_['Target'] = 'Rape penalty'\n",
    "victim_blaming_['Target'] = 'Victim Blaming'\n",
    "self_defence_['Target'] = 'Self Defence'\n",
    "call_to_action_['Target'] = 'Call to Action'\n",
    "\n",
    "# join the dataframes together\n",
    "data_list = [rape_penalty_, rape_culture2_, victim_blaming_, self_defence_, call_to_action_]\n",
    "data = pd.concat(data_list)\n",
    "data.shape"
   ]
  },
  {
   "cell_type": "code",
   "execution_count": 394,
   "metadata": {},
   "outputs": [
    {
     "data": {
      "text/html": [
       "<div>\n",
       "<style scoped>\n",
       "    .dataframe tbody tr th:only-of-type {\n",
       "        vertical-align: middle;\n",
       "    }\n",
       "\n",
       "    .dataframe tbody tr th {\n",
       "        vertical-align: top;\n",
       "    }\n",
       "\n",
       "    .dataframe thead th {\n",
       "        text-align: right;\n",
       "    }\n",
       "</style>\n",
       "<table border=\"1\" class=\"dataframe\">\n",
       "  <thead>\n",
       "    <tr style=\"text-align: right;\">\n",
       "      <th></th>\n",
       "      <th>Date</th>\n",
       "      <th>DisplayName</th>\n",
       "      <th>clean_tweet</th>\n",
       "      <th>Subjectivity</th>\n",
       "      <th>Polarity</th>\n",
       "      <th>Sentiments</th>\n",
       "      <th>Target</th>\n",
       "    </tr>\n",
       "  </thead>\n",
       "  <tbody>\n",
       "    <tr>\n",
       "      <th>0</th>\n",
       "      <td>2022-07-2</td>\n",
       "      <td>jude 🦴hell detective (DOLL)</td>\n",
       "      <td>cw: sa the thing about sexual violence in fant...</td>\n",
       "      <td>0.777778</td>\n",
       "      <td>0.416667</td>\n",
       "      <td>Positive</td>\n",
       "      <td>Rape penalty</td>\n",
       "    </tr>\n",
       "    <tr>\n",
       "      <th>1</th>\n",
       "      <td>2022-07-2</td>\n",
       "      <td>Rachel (is Awake) Horton</td>\n",
       "      <td>Let’s try to stop the euphemisms for truly hor...</td>\n",
       "      <td>0.700000</td>\n",
       "      <td>-0.500000</td>\n",
       "      <td>Positive</td>\n",
       "      <td>Rape penalty</td>\n",
       "    </tr>\n",
       "    <tr>\n",
       "      <th>2</th>\n",
       "      <td>2022-07-2</td>\n",
       "      <td>Gina Lee  she/her DMs</td>\n",
       "      <td>Pedophilia &amp;amp; rape/incest are HEAVY sins....</td>\n",
       "      <td>0.765306</td>\n",
       "      <td>-0.302041</td>\n",
       "      <td>Positive</td>\n",
       "      <td>Rape penalty</td>\n",
       "    </tr>\n",
       "    <tr>\n",
       "      <th>3</th>\n",
       "      <td>2022-07-2</td>\n",
       "      <td>OnyekaChi</td>\n",
       "      <td>Yes, and the girl will also ...</td>\n",
       "      <td>0.300000</td>\n",
       "      <td>0.200000</td>\n",
       "      <td>Positive</td>\n",
       "      <td>Rape penalty</td>\n",
       "    </tr>\n",
       "    <tr>\n",
       "      <th>4</th>\n",
       "      <td>2022-07-2</td>\n",
       "      <td>angela55</td>\n",
       "      <td>It's also annoying when you can't file...</td>\n",
       "      <td>0.500000</td>\n",
       "      <td>-0.166667</td>\n",
       "      <td>Negetive</td>\n",
       "      <td>Rape penalty</td>\n",
       "    </tr>\n",
       "    <tr>\n",
       "      <th>...</th>\n",
       "      <td>...</td>\n",
       "      <td>...</td>\n",
       "      <td>...</td>\n",
       "      <td>...</td>\n",
       "      <td>...</td>\n",
       "      <td>...</td>\n",
       "      <td>...</td>\n",
       "    </tr>\n",
       "    <tr>\n",
       "      <th>1084</th>\n",
       "      <td>2022-07-2</td>\n",
       "      <td>Shoaib Taimur</td>\n",
       "      <td>RT   Call to Action: Kidnapping, torture, murd...</td>\n",
       "      <td>0.100000</td>\n",
       "      <td>0.100000</td>\n",
       "      <td>Neutral</td>\n",
       "      <td>Call to Action</td>\n",
       "    </tr>\n",
       "    <tr>\n",
       "      <th>1085</th>\n",
       "      <td>2022-07-2</td>\n",
       "      <td>sexgenderbody</td>\n",
       "      <td>New post by arvan at  | Call to Action: Kidnap...</td>\n",
       "      <td>0.277273</td>\n",
       "      <td>0.118182</td>\n",
       "      <td>Neutral</td>\n",
       "      <td>Call to Action</td>\n",
       "    </tr>\n",
       "    <tr>\n",
       "      <th>1086</th>\n",
       "      <td>2022-07-2</td>\n",
       "      <td>CSTS - Serenity</td>\n",
       "      <td>Good news: Victory in Zambian civil case of sc...</td>\n",
       "      <td>0.566667</td>\n",
       "      <td>0.016667</td>\n",
       "      <td>Positive</td>\n",
       "      <td>Call to Action</td>\n",
       "    </tr>\n",
       "    <tr>\n",
       "      <th>1087</th>\n",
       "      <td>2022-07-2</td>\n",
       "      <td>WBAL-TV 11 Baltimore</td>\n",
       "      <td>NAACP Joins Rape Investigation Effort: There i...</td>\n",
       "      <td>0.466667</td>\n",
       "      <td>0.300000</td>\n",
       "      <td>Neutral</td>\n",
       "      <td>Call to Action</td>\n",
       "    </tr>\n",
       "    <tr>\n",
       "      <th>1088</th>\n",
       "      <td>2022-07-2</td>\n",
       "      <td>Scientist Solutions</td>\n",
       "      <td>Call to action following shock rape stats - L...</td>\n",
       "      <td>0.100000</td>\n",
       "      <td>0.050000</td>\n",
       "      <td>Positive</td>\n",
       "      <td>Call to Action</td>\n",
       "    </tr>\n",
       "  </tbody>\n",
       "</table>\n",
       "<p>12845 rows × 7 columns</p>\n",
       "</div>"
      ],
      "text/plain": [
       "           Date                  DisplayName  \\\n",
       "0     2022-07-2  jude 🦴hell detective (DOLL)   \n",
       "1     2022-07-2     Rachel (is Awake) Horton   \n",
       "2     2022-07-2        Gina Lee  she/her DMs   \n",
       "3     2022-07-2                    OnyekaChi   \n",
       "4     2022-07-2                     angela55   \n",
       "...         ...                          ...   \n",
       "1084  2022-07-2                Shoaib Taimur   \n",
       "1085  2022-07-2                sexgenderbody   \n",
       "1086  2022-07-2              CSTS - Serenity   \n",
       "1087  2022-07-2         WBAL-TV 11 Baltimore   \n",
       "1088  2022-07-2          Scientist Solutions   \n",
       "\n",
       "                                            clean_tweet  Subjectivity  \\\n",
       "0     cw: sa the thing about sexual violence in fant...      0.777778   \n",
       "1     Let’s try to stop the euphemisms for truly hor...      0.700000   \n",
       "2       Pedophilia &amp; rape/incest are HEAVY sins....      0.765306   \n",
       "3                       Yes, and the girl will also ...      0.300000   \n",
       "4             It's also annoying when you can't file...      0.500000   \n",
       "...                                                 ...           ...   \n",
       "1084  RT   Call to Action: Kidnapping, torture, murd...      0.100000   \n",
       "1085  New post by arvan at  | Call to Action: Kidnap...      0.277273   \n",
       "1086  Good news: Victory in Zambian civil case of sc...      0.566667   \n",
       "1087  NAACP Joins Rape Investigation Effort: There i...      0.466667   \n",
       "1088   Call to action following shock rape stats - L...      0.100000   \n",
       "\n",
       "      Polarity Sentiments          Target  \n",
       "0     0.416667   Positive    Rape penalty  \n",
       "1    -0.500000   Positive    Rape penalty  \n",
       "2    -0.302041   Positive    Rape penalty  \n",
       "3     0.200000   Positive    Rape penalty  \n",
       "4    -0.166667   Negetive    Rape penalty  \n",
       "...        ...        ...             ...  \n",
       "1084  0.100000    Neutral  Call to Action  \n",
       "1085  0.118182    Neutral  Call to Action  \n",
       "1086  0.016667   Positive  Call to Action  \n",
       "1087  0.300000    Neutral  Call to Action  \n",
       "1088  0.050000   Positive  Call to Action  \n",
       "\n",
       "[12845 rows x 7 columns]"
      ]
     },
     "execution_count": 394,
     "metadata": {},
     "output_type": "execute_result"
    }
   ],
   "source": [
    "data"
   ]
  },
  {
   "cell_type": "code",
   "execution_count": 395,
   "metadata": {},
   "outputs": [
    {
     "data": {
      "text/html": [
       "<div>\n",
       "<style scoped>\n",
       "    .dataframe tbody tr th:only-of-type {\n",
       "        vertical-align: middle;\n",
       "    }\n",
       "\n",
       "    .dataframe tbody tr th {\n",
       "        vertical-align: top;\n",
       "    }\n",
       "\n",
       "    .dataframe thead th {\n",
       "        text-align: right;\n",
       "    }\n",
       "</style>\n",
       "<table border=\"1\" class=\"dataframe\">\n",
       "  <thead>\n",
       "    <tr style=\"text-align: right;\">\n",
       "      <th></th>\n",
       "      <th>Date</th>\n",
       "      <th>DisplayName</th>\n",
       "      <th>clean_tweet</th>\n",
       "      <th>Target</th>\n",
       "    </tr>\n",
       "  </thead>\n",
       "  <tbody>\n",
       "    <tr>\n",
       "      <th>0</th>\n",
       "      <td>2022-07-2</td>\n",
       "      <td>jude 🦴hell detective (DOLL)</td>\n",
       "      <td>cw: sa the thing about sexual violence in fant...</td>\n",
       "      <td>rape penalty</td>\n",
       "    </tr>\n",
       "    <tr>\n",
       "      <th>1</th>\n",
       "      <td>2022-07-2</td>\n",
       "      <td>Rachel (is Awake) Horton</td>\n",
       "      <td>let’s try to stop the euphemisms for truly hor...</td>\n",
       "      <td>rape penalty</td>\n",
       "    </tr>\n",
       "    <tr>\n",
       "      <th>2</th>\n",
       "      <td>2022-07-2</td>\n",
       "      <td>Gina Lee  she/her DMs</td>\n",
       "      <td>pedophilia &amp;amp; rape/incest are heavy sins....</td>\n",
       "      <td>rape penalty</td>\n",
       "    </tr>\n",
       "    <tr>\n",
       "      <th>3</th>\n",
       "      <td>2022-07-2</td>\n",
       "      <td>OnyekaChi</td>\n",
       "      <td>yes, and the girl will also ...</td>\n",
       "      <td>rape penalty</td>\n",
       "    </tr>\n",
       "    <tr>\n",
       "      <th>4</th>\n",
       "      <td>2022-07-2</td>\n",
       "      <td>angela55</td>\n",
       "      <td>it's also annoying when you can't file...</td>\n",
       "      <td>rape penalty</td>\n",
       "    </tr>\n",
       "    <tr>\n",
       "      <th>...</th>\n",
       "      <td>...</td>\n",
       "      <td>...</td>\n",
       "      <td>...</td>\n",
       "      <td>...</td>\n",
       "    </tr>\n",
       "    <tr>\n",
       "      <th>1084</th>\n",
       "      <td>2022-07-2</td>\n",
       "      <td>Shoaib Taimur</td>\n",
       "      <td>rt   call to action: kidnapping, torture, murd...</td>\n",
       "      <td>call to action</td>\n",
       "    </tr>\n",
       "    <tr>\n",
       "      <th>1085</th>\n",
       "      <td>2022-07-2</td>\n",
       "      <td>sexgenderbody</td>\n",
       "      <td>new post by arvan at  | call to action: kidnap...</td>\n",
       "      <td>call to action</td>\n",
       "    </tr>\n",
       "    <tr>\n",
       "      <th>1086</th>\n",
       "      <td>2022-07-2</td>\n",
       "      <td>CSTS - Serenity</td>\n",
       "      <td>good news: victory in zambian civil case of sc...</td>\n",
       "      <td>call to action</td>\n",
       "    </tr>\n",
       "    <tr>\n",
       "      <th>1087</th>\n",
       "      <td>2022-07-2</td>\n",
       "      <td>WBAL-TV 11 Baltimore</td>\n",
       "      <td>naacp joins rape investigation effort: there i...</td>\n",
       "      <td>call to action</td>\n",
       "    </tr>\n",
       "    <tr>\n",
       "      <th>1088</th>\n",
       "      <td>2022-07-2</td>\n",
       "      <td>Scientist Solutions</td>\n",
       "      <td>call to action following shock rape stats - l...</td>\n",
       "      <td>call to action</td>\n",
       "    </tr>\n",
       "  </tbody>\n",
       "</table>\n",
       "<p>12845 rows × 4 columns</p>\n",
       "</div>"
      ],
      "text/plain": [
       "           Date                  DisplayName  \\\n",
       "0     2022-07-2  jude 🦴hell detective (DOLL)   \n",
       "1     2022-07-2     Rachel (is Awake) Horton   \n",
       "2     2022-07-2        Gina Lee  she/her DMs   \n",
       "3     2022-07-2                    OnyekaChi   \n",
       "4     2022-07-2                     angela55   \n",
       "...         ...                          ...   \n",
       "1084  2022-07-2                Shoaib Taimur   \n",
       "1085  2022-07-2                sexgenderbody   \n",
       "1086  2022-07-2              CSTS - Serenity   \n",
       "1087  2022-07-2         WBAL-TV 11 Baltimore   \n",
       "1088  2022-07-2          Scientist Solutions   \n",
       "\n",
       "                                            clean_tweet          Target  \n",
       "0     cw: sa the thing about sexual violence in fant...    rape penalty  \n",
       "1     let’s try to stop the euphemisms for truly hor...    rape penalty  \n",
       "2       pedophilia &amp; rape/incest are heavy sins....    rape penalty  \n",
       "3                       yes, and the girl will also ...    rape penalty  \n",
       "4             it's also annoying when you can't file...    rape penalty  \n",
       "...                                                 ...             ...  \n",
       "1084  rt   call to action: kidnapping, torture, murd...  call to action  \n",
       "1085  new post by arvan at  | call to action: kidnap...  call to action  \n",
       "1086  good news: victory in zambian civil case of sc...  call to action  \n",
       "1087  naacp joins rape investigation effort: there i...  call to action  \n",
       "1088   call to action following shock rape stats - l...  call to action  \n",
       "\n",
       "[12845 rows x 4 columns]"
      ]
     },
     "execution_count": 395,
     "metadata": {},
     "output_type": "execute_result"
    }
   ],
   "source": [
    "# Drop unwanted columns and turn all value to lowercase for easy NLP\n",
    "\n",
    "dx = data.drop(['Subjectivity', 'Polarity', 'Sentiments'],axis = 1)\n",
    "dx['clean_tweet'] = dx['clean_tweet'].apply(str) # Convert all to string\n",
    "dx['clean_tweet'] = dx['clean_tweet'].str.lower()\n",
    "\n",
    "dx['Target'] = dx['Target'].apply(str) # Convert all to string\n",
    "dx['Target'] = dx['Target'].str.lower()\n",
    "dx"
   ]
  },
  {
   "cell_type": "code",
   "execution_count": 396,
   "metadata": {},
   "outputs": [
    {
     "name": "stdout",
     "output_type": "stream",
     "text": [
      "train size:  (10276, 4)\n",
      "test size:  (2569, 4)\n"
     ]
    }
   ],
   "source": [
    "train, test = train_test_split(dx, test_size= 0.2, random_state = 23)\n",
    "print(f'train size: ', train.shape)\n",
    "print(f'test size: ', test.shape)"
   ]
  },
  {
   "cell_type": "code",
   "execution_count": 397,
   "metadata": {},
   "outputs": [
    {
     "data": {
      "text/plain": [
       "['  when a black woman was fired from uj for \"racism\" &amp; \"sexism\" you were silent. but you are out here protecting rape culture with macg. y\\'all token hires have done the same damage as the apartheid regime 🤷🏿\\u200d♀️',\n",
       " 'nailed it   - also   to businesswomen at corporations around the world:“if your company moves to la., be prepared for 2nd class citizenship. you’ll lose control over your body, health care, and live in a rape culture. we’re 100% regressive &amp; proud of it!” ',\n",
       " '      1 out of 14-17 males bred in the ancient times. which makes everyone baffled: how did russians, statistically savaage, yet with small stature &amp; penis length, flourish? explains their rape culture. survival of the shittiest',\n",
       " '  ronaldo missed rashfords penalty in the euros killing his confidence then benched him for elanga, he arrested greenwood for rape, injured cavani and while still at juve he somehow killed martial\\'s  mojo\"it\\'s not a coincidence...\"simple minds are attracted to simple answers']"
      ]
     },
     "execution_count": 397,
     "metadata": {},
     "output_type": "execute_result"
    }
   ],
   "source": [
    "# Joining all the sentences in the train dataframe together\n",
    "\n",
    "ds = []\n",
    "for row in range(0,len(train.index)):\n",
    "    ds.append(' '.join(str(x) for x in train.iloc[row, 2:3]))\n",
    "\n",
    "# Display the data\n",
    "ds[1:5]"
   ]
  },
  {
   "cell_type": "code",
   "execution_count": 398,
   "metadata": {},
   "outputs": [
    {
     "data": {
      "text/plain": [
       "(10276, 16985)"
      ]
     },
     "execution_count": 398,
     "metadata": {},
     "output_type": "execute_result"
    }
   ],
   "source": [
    "# After preparation of our dataset, nextup we countVectorize to put them into binaries of 1s and 0s.\n",
    "# This auto ascribes a particular number to a letter\n",
    "# While ngram takes the letters in pairs and ascribes a number to them\n",
    "\n",
    "# Implement Bag of Words\n",
    "vector = TfidfVectorizer()\n",
    "train_set = vector.fit_transform(ds) # This ascribes count to a particular letter\n",
    "\n",
    "train_set.shape"
   ]
  },
  {
   "cell_type": "code",
   "execution_count": 399,
   "metadata": {},
   "outputs": [
    {
     "data": {
      "text/plain": [
       "[\"    if all aborted babies were conceived through rape and incest then it's time for stiffer penalties on rape and incest\",\n",
       " '  the baby is innocent. prosecute the man to the fullest extent of the law (i would support the death penalty for rape) and protect the innocent parties. adoption is a great option. also rape is the reason for less than 1% or abortions. in 99+/100 cases, the woman chose.',\n",
       " \"        and you answer your question, i don't think there's any biological element to how violent or aggressive a person is. that's a symptom of toxic masculinity, and rape culture. our patriarchal society is the problem. there's no biological evidence for the ability to commit crime.\",\n",
       " 'is there a  argument out there that doesn’t involve gun laws, rape and incest, death penalty of murderers, or stating how religion is bad?  an actual reason why abortion should be legal in cases that don’t involve rape/incest, or when the mothers life is in danger. 1/2']"
      ]
     },
     "execution_count": 399,
     "metadata": {},
     "output_type": "execute_result"
    }
   ],
   "source": [
    "# perfrom same preprocessing step for Test data\n",
    "\n",
    "# Join all the test dataframe together\n",
    "dss = []\n",
    "for row in range(0,len(test.index)):\n",
    "    dss.append(' '.join(str(x) for x in test.iloc[row, 2:3]))\n",
    "\n",
    "# Display the data\n",
    "dss[1:5]"
   ]
  },
  {
   "cell_type": "code",
   "execution_count": 400,
   "metadata": {},
   "outputs": [
    {
     "data": {
      "text/plain": [
       "(2569, 16985)"
      ]
     },
     "execution_count": 400,
     "metadata": {},
     "output_type": "execute_result"
    }
   ],
   "source": [
    "# fit the count on the data\n",
    "test_set = vector.transform(dss) # Fit transform on 'ds' version of test data  - dss\n",
    "test_set.shape\n"
   ]
  },
  {
   "cell_type": "code",
   "execution_count": 401,
   "metadata": {},
   "outputs": [
    {
     "data": {
      "text/html": [
       "<style>#sk-container-id-6 {color: black;background-color: white;}#sk-container-id-6 pre{padding: 0;}#sk-container-id-6 div.sk-toggleable {background-color: white;}#sk-container-id-6 label.sk-toggleable__label {cursor: pointer;display: block;width: 100%;margin-bottom: 0;padding: 0.3em;box-sizing: border-box;text-align: center;}#sk-container-id-6 label.sk-toggleable__label-arrow:before {content: \"▸\";float: left;margin-right: 0.25em;color: #696969;}#sk-container-id-6 label.sk-toggleable__label-arrow:hover:before {color: black;}#sk-container-id-6 div.sk-estimator:hover label.sk-toggleable__label-arrow:before {color: black;}#sk-container-id-6 div.sk-toggleable__content {max-height: 0;max-width: 0;overflow: hidden;text-align: left;background-color: #f0f8ff;}#sk-container-id-6 div.sk-toggleable__content pre {margin: 0.2em;color: black;border-radius: 0.25em;background-color: #f0f8ff;}#sk-container-id-6 input.sk-toggleable__control:checked~div.sk-toggleable__content {max-height: 200px;max-width: 100%;overflow: auto;}#sk-container-id-6 input.sk-toggleable__control:checked~label.sk-toggleable__label-arrow:before {content: \"▾\";}#sk-container-id-6 div.sk-estimator input.sk-toggleable__control:checked~label.sk-toggleable__label {background-color: #d4ebff;}#sk-container-id-6 div.sk-label input.sk-toggleable__control:checked~label.sk-toggleable__label {background-color: #d4ebff;}#sk-container-id-6 input.sk-hidden--visually {border: 0;clip: rect(1px 1px 1px 1px);clip: rect(1px, 1px, 1px, 1px);height: 1px;margin: -1px;overflow: hidden;padding: 0;position: absolute;width: 1px;}#sk-container-id-6 div.sk-estimator {font-family: monospace;background-color: #f0f8ff;border: 1px dotted black;border-radius: 0.25em;box-sizing: border-box;margin-bottom: 0.5em;}#sk-container-id-6 div.sk-estimator:hover {background-color: #d4ebff;}#sk-container-id-6 div.sk-parallel-item::after {content: \"\";width: 100%;border-bottom: 1px solid gray;flex-grow: 1;}#sk-container-id-6 div.sk-label:hover label.sk-toggleable__label {background-color: #d4ebff;}#sk-container-id-6 div.sk-serial::before {content: \"\";position: absolute;border-left: 1px solid gray;box-sizing: border-box;top: 0;bottom: 0;left: 50%;z-index: 0;}#sk-container-id-6 div.sk-serial {display: flex;flex-direction: column;align-items: center;background-color: white;padding-right: 0.2em;padding-left: 0.2em;position: relative;}#sk-container-id-6 div.sk-item {position: relative;z-index: 1;}#sk-container-id-6 div.sk-parallel {display: flex;align-items: stretch;justify-content: center;background-color: white;position: relative;}#sk-container-id-6 div.sk-item::before, #sk-container-id-6 div.sk-parallel-item::before {content: \"\";position: absolute;border-left: 1px solid gray;box-sizing: border-box;top: 0;bottom: 0;left: 50%;z-index: -1;}#sk-container-id-6 div.sk-parallel-item {display: flex;flex-direction: column;z-index: 1;position: relative;background-color: white;}#sk-container-id-6 div.sk-parallel-item:first-child::after {align-self: flex-end;width: 50%;}#sk-container-id-6 div.sk-parallel-item:last-child::after {align-self: flex-start;width: 50%;}#sk-container-id-6 div.sk-parallel-item:only-child::after {width: 0;}#sk-container-id-6 div.sk-dashed-wrapped {border: 1px dashed gray;margin: 0 0.4em 0.5em 0.4em;box-sizing: border-box;padding-bottom: 0.4em;background-color: white;}#sk-container-id-6 div.sk-label label {font-family: monospace;font-weight: bold;display: inline-block;line-height: 1.2em;}#sk-container-id-6 div.sk-label-container {text-align: center;}#sk-container-id-6 div.sk-container {/* jupyter's `normalize.less` sets `[hidden] { display: none; }` but bootstrap.min.css set `[hidden] { display: none !important; }` so we also need the `!important` here to be able to override the default hidden behavior on the sphinx rendered scikit-learn.org. See: https://github.com/scikit-learn/scikit-learn/issues/21755 */display: inline-block !important;position: relative;}#sk-container-id-6 div.sk-text-repr-fallback {display: none;}</style><div id=\"sk-container-id-6\" class=\"sk-top-container\"><div class=\"sk-text-repr-fallback\"><pre>MultinomialNB()</pre><b>In a Jupyter environment, please rerun this cell to show the HTML representation or trust the notebook. <br />On GitHub, the HTML representation is unable to render, please try loading this page with nbviewer.org.</b></div><div class=\"sk-container\" hidden><div class=\"sk-item\"><div class=\"sk-estimator sk-toggleable\"><input class=\"sk-toggleable__control sk-hidden--visually\" id=\"sk-estimator-id-6\" type=\"checkbox\" checked><label for=\"sk-estimator-id-6\" class=\"sk-toggleable__label sk-toggleable__label-arrow\">MultinomialNB</label><div class=\"sk-toggleable__content\"><pre>MultinomialNB()</pre></div></div></div></div></div>"
      ],
      "text/plain": [
       "MultinomialNB()"
      ]
     },
     "execution_count": 401,
     "metadata": {},
     "output_type": "execute_result"
    }
   ],
   "source": [
    "# Train using the RandomForest and the MultinomialNB models respectively\n",
    "\n",
    "rf = RandomForestClassifier(n_estimators=200, criterion='entropy')\n",
    "rf.fit(train_set, train['Target'])\n",
    "\n",
    "\n",
    "nv =  MultinomialNB()\n",
    "nv.fit(train_set, train['Target'])\n"
   ]
  },
  {
   "cell_type": "code",
   "execution_count": 402,
   "metadata": {},
   "outputs": [],
   "source": [
    "rf_pred = rf.predict(test_set)\n",
    "nv_pred = nv.predict(test_set)"
   ]
  },
  {
   "cell_type": "code",
   "execution_count": 403,
   "metadata": {},
   "outputs": [
    {
     "name": "stdout",
     "output_type": "stream",
     "text": [
      "                precision    recall  f1-score   support\n",
      "\n",
      "call to action       1.00      0.99      0.99       221\n",
      "  rape culture       0.98      0.98      0.98       747\n",
      "  rape penalty       1.00      0.99      0.99       801\n",
      "  self defence       1.00      0.64      0.78        11\n",
      "victim blaming       0.98      0.99      0.98       789\n",
      "\n",
      "      accuracy                           0.98      2569\n",
      "     macro avg       0.99      0.92      0.94      2569\n",
      "  weighted avg       0.98      0.98      0.98      2569\n",
      "\n",
      "accuracy score:  0.9844297391981316\n"
     ]
    }
   ],
   "source": [
    "from sklearn.metrics import accuracy_score, classification_report, confusion_matrix\n",
    "\n",
    "\n",
    "classify = classification_report(test['Target'], rf_pred )\n",
    "print(classify)\n",
    "score = accuracy_score(test['Target'], rf_pred )\n",
    "print(f'accuracy score: ',score)"
   ]
  },
  {
   "cell_type": "markdown",
   "metadata": {},
   "source": [
    "----------------------------------------------\n",
    "### Model Testing"
   ]
  },
  {
   "cell_type": "code",
   "execution_count": 415,
   "metadata": {},
   "outputs": [
    {
     "data": {
      "text/plain": [
       "array(['  We need to make the penalties for rape much higher. The death penalty would be fine with me, but, castration might even be better.',\n",
       "       '  Bro zubair delted fb id for numerous insulting religion  but u are silent watching  rape threat death penalty for quoting Islamic text  now u also want freedom to insult Hinduism  than u cry why bjp is winning  do u think public  are idiot  ya u are only know how to manpulted ?'],\n",
       "      dtype=object)"
      ]
     },
     "execution_count": 415,
     "metadata": {},
     "output_type": "execute_result"
    }
   ],
   "source": [
    "data.iloc[2000:2002, 2].values"
   ]
  },
  {
   "cell_type": "code",
   "execution_count": 418,
   "metadata": {},
   "outputs": [
    {
     "data": {
      "text/plain": [
       "array(['rape penalty'], dtype='<U14')"
      ]
     },
     "execution_count": 418,
     "metadata": {},
     "output_type": "execute_result"
    }
   ],
   "source": [
    "# Testing model \n",
    "word = data.iloc[2000:2001, 2].values\n",
    "count_word = vector.transform(word)\n",
    "preds = nv.predict(count_word)\n",
    "preds"
   ]
  },
  {
   "cell_type": "code",
   "execution_count": 422,
   "metadata": {},
   "outputs": [
    {
     "data": {
      "text/plain": [
       "array(['  The penalty for rape should be death, public execution preferably. Give a year in jail to attempt to prove their innocence, then day 366 after conviction they are put to death by the state.'],\n",
       "      dtype=object)"
      ]
     },
     "execution_count": 422,
     "metadata": {},
     "output_type": "execute_result"
    }
   ],
   "source": [
    "data.iloc[1084:1085, 2].values"
   ]
  },
  {
   "cell_type": "code",
   "execution_count": 420,
   "metadata": {},
   "outputs": [
    {
     "data": {
      "text/plain": [
       "array(['rape penalty'], dtype='<U14')"
      ]
     },
     "execution_count": 420,
     "metadata": {},
     "output_type": "execute_result"
    }
   ],
   "source": [
    "word = data.iloc[1084:1085, 2].values\n",
    "count_word = vector.transform(word)\n",
    "preds = nv.predict(count_word)\n",
    "preds"
   ]
  }
 ],
 "metadata": {
  "kernelspec": {
   "display_name": "Python 3.8.2 ('twitter_env3.8')",
   "language": "python",
   "name": "python3"
  },
  "language_info": {
   "codemirror_mode": {
    "name": "ipython",
    "version": 3
   },
   "file_extension": ".py",
   "mimetype": "text/x-python",
   "name": "python",
   "nbconvert_exporter": "python",
   "pygments_lexer": "ipython3",
   "version": "3.8.2"
  },
  "orig_nbformat": 4,
  "vscode": {
   "interpreter": {
    "hash": "44af1c4dd14c10851c8a646521365c8965e8ef0189e835ac25b3a431abd3190c"
   }
  }
 },
 "nbformat": 4,
 "nbformat_minor": 2
}
